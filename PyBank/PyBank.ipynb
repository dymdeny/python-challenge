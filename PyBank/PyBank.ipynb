{
 "cells": [
  {
   "cell_type": "code",
   "execution_count": 2,
   "id": "e4a273c1-c367-4b98-aedb-f54852babab4",
   "metadata": {},
   "outputs": [],
   "source": [
    "from pathlib import Path\n",
    "import csv\n",
    "\n",
    "# Set the file path\n",
    "csvpath = Path(\"../Resources/budget_data.csv\") \n",
    "\n",
    "with open(csvpath,\"r\") as csvfile:\n",
    "     csvreader = csv.reader(csvfile, delimiter =\",\")\n",
    "#Create a list\n",
    "list_date = list()  \n",
    "list_profit = list()\n",
    "outputdir = {}\n",
    "with open(csvpath,\"r\") as csvfile:\n",
    "    csvreader = csv.reader(csvfile, delimiter =\",\")\n",
    "    csv_header = next(csvreader)\n",
    " #Variables\n",
    "    months = 0\n",
    "    total_profit = 0\n",
    "    last_profit = 0\n",
    "    index = 0\n",
    "    average_change = 0\n",
    "    total_change = 0\n",
    "\n",
    "\n",
    " # Loop through\n",
    "    for row in csvreader:\n",
    "       ## increment the index by 1\n",
    "        index += 1\n",
    "\n",
    "        profit = int(row[1])\n",
    "        list_date.append(row[0])\n",
    "#calculate outcomes \n",
    "        total_profit += profit \n",
    "        if index > 1:\n",
    "            profit_change = profit - last_profit\n",
    "            list_profit.append(profit_change)\n",
    "            outputdir.update({row[0]: profit_change})\n",
    "        last_profit = profit\n",
    "        \n",
    "    total_months = len(list_date)\n",
    "    months = total_months - 1\n",
    "    \n",
    "\n"
   ]
  },
  {
   "cell_type": "code",
   "execution_count": 3,
   "id": "ef24e213-8237-4200-b4cf-391a4fc4a524",
   "metadata": {},
   "outputs": [],
   "source": [
    "    #Reading the directory\n",
    "    date_max = max(outputdir, key= outputdir.get)\n",
    "    date_min = min(outputdir, key= outputdir.get)\n",
    "    greatest_profit = max(outputdir.values())\n",
    "    smallest_profit = min(outputdir.values())\n",
    "    total_change = sum(list_profit) \n",
    "    average_change =round((total_change /months),2)\n"
   ]
  },
  {
   "cell_type": "code",
   "execution_count": 6,
   "id": "6b537ebc-bee6-447c-9b29-81e1546a5299",
   "metadata": {},
   "outputs": [
    {
     "name": "stdout",
     "output_type": "stream",
     "text": [
      "Financial Analysis\n",
      "--------------------\n",
      "\n",
      "Total Months: 86\n",
      "For the entire period of 86 months\n",
      "Total profit: 38382578\n",
      "Average change of Profit/Losses: $-2315.12\n",
      "Greatest Increase in Profits: Feb-2012 - $1926159\n",
      "Greatest Decrease in Profits: Sep-2013 - $-2196167\n"
     ]
    }
   ],
   "source": [
    "#Create outcome\n",
    "newfile= open(\"PyBankHomeworkResults.txt\", \"w\")\n",
    "newfile.write(\"Financial Analysis\\n\" + \"--------------------\\n\")\n",
    "newfile.write(f\"Total Months: {total_months}\\n\")\n",
    "newfile.write(f\" Total profit: {total_profit}\\n\")\n",
    "newfile.write(f\"Average change : ${average_change}\\n\")\n",
    "newfile.write(f\"Greatest Increase in Profits: {date_max} - ${greatest_profit}\\n\")\n",
    "newfile.write(f\"Greatest Decrease in Profits: {date_min} - ${smallest_profit}\\n\")\n",
    "print(\"Financial Analysis\")\n",
    "print(\"--------------------\\n\")\n",
    "print(f\"Total Months: {total_months}\")\n",
    "print(f\"For the entire period of {total_months} months\")\n",
    "print(f\"Total profit: {total_profit}\")\n",
    "print(f\"Average change of Profit/Losses: ${average_change}\")\n",
    "print(f\"Greatest Increase in Profits: {date_max} - ${greatest_profit}\")\n",
    "print(f\"Greatest Decrease in Profits: {date_min} - ${smallest_profit}\")"
   ]
  },
  {
   "cell_type": "code",
   "execution_count": null,
   "id": "7fe2dd1d-24f4-43d0-9f9e-95759461906f",
   "metadata": {},
   "outputs": [],
   "source": []
  }
 ],
 "metadata": {
  "kernelspec": {
   "display_name": "Python 3 (ipykernel)",
   "language": "python",
   "name": "python3"
  },
  "language_info": {
   "codemirror_mode": {
    "name": "ipython",
    "version": 3
   },
   "file_extension": ".py",
   "mimetype": "text/x-python",
   "name": "python",
   "nbconvert_exporter": "python",
   "pygments_lexer": "ipython3",
   "version": "3.9.12"
  }
 },
 "nbformat": 4,
 "nbformat_minor": 5
}
